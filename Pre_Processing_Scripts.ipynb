{
 "cells": [
  {
   "cell_type": "code",
   "execution_count": 3,
   "id": "2626c70e-dcf5-46d2-b4f6-f97d0334b1b4",
   "metadata": {},
   "outputs": [
    {
     "name": "stdout",
     "output_type": "stream",
     "text": [
      "   Sl no. District Name                    Market Name       Commodity  \\\n",
      "0       1    Dharmapuri  AJattihalli(Uzhavar Sandhai )  Banana - Green   \n",
      "1       2    Dharmapuri  AJattihalli(Uzhavar Sandhai )  Banana - Green   \n",
      "2       3    Dharmapuri  AJattihalli(Uzhavar Sandhai )  Banana - Green   \n",
      "3       4    Dharmapuri  AJattihalli(Uzhavar Sandhai )  Banana - Green   \n",
      "4       5    Dharmapuri  AJattihalli(Uzhavar Sandhai )  Banana - Green   \n",
      "\n",
      "          Variety  Grade  Min Price (Rs./Quintal)  Max Price (Rs./Quintal)  \\\n",
      "0  Banana - Green  Local                   2000.0                     2500   \n",
      "1  Banana - Green  Local                   2000.0                     2500   \n",
      "2  Banana - Green  Local                   2000.0                     2500   \n",
      "3  Banana - Green  Local                   2000.0                     2500   \n",
      "4  Banana - Green  Local                   2000.0                     2500   \n",
      "\n",
      "   Modal Price (Rs./Quintal)   Price Date  \n",
      "0                       2500  01 Oct 2024  \n",
      "1                       2500  24 Dec 2024  \n",
      "2                       2500  30 Dec 2024  \n",
      "3                       2500  30 Sep 2024  \n",
      "4                       2500  31 Dec 2024  \n"
     ]
    }
   ],
   "source": [
    "import pandas as pd\n",
    "df=pd.read_csv(\"./CSV/Banana Green.csv\")\n",
    "print(df.head())"
   ]
  },
  {
   "cell_type": "code",
   "execution_count": 4,
   "id": "580bd2ac-ad8f-4f08-a226-888d26d3cfdf",
   "metadata": {},
   "outputs": [
    {
     "name": "stdout",
     "output_type": "stream",
     "text": [
      "Sl no.                       0\n",
      "District Name                0\n",
      "Market Name                  0\n",
      "Commodity                    0\n",
      "Variety                      0\n",
      "Grade                        0\n",
      "Min Price (Rs./Quintal)      0\n",
      "Max Price (Rs./Quintal)      0\n",
      "Modal Price (Rs./Quintal)    0\n",
      "Price Date                   0\n",
      "dtype: int64\n"
     ]
    }
   ],
   "source": [
    "print(df.isnull().sum())"
   ]
  },
  {
   "cell_type": "code",
   "execution_count": 5,
   "id": "d49581b4-3cbd-483e-894f-fc1db97666f8",
   "metadata": {},
   "outputs": [],
   "source": [
    "df['Price Date'] = pd.to_datetime(df['Price Date'])"
   ]
  },
  {
   "cell_type": "code",
   "execution_count": null,
   "id": "e1de98a1-e327-4905-9922-ba255d92ecfa",
   "metadata": {},
   "outputs": [],
   "source": []
  }
 ],
 "metadata": {
  "kernelspec": {
   "display_name": "Python 3 (ipykernel)",
   "language": "python",
   "name": "python3"
  },
  "language_info": {
   "codemirror_mode": {
    "name": "ipython",
    "version": 3
   },
   "file_extension": ".py",
   "mimetype": "text/x-python",
   "name": "python",
   "nbconvert_exporter": "python",
   "pygments_lexer": "ipython3",
   "version": "3.12.6"
  }
 },
 "nbformat": 4,
 "nbformat_minor": 5
}
